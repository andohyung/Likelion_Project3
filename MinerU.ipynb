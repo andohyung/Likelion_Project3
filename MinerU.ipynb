{
  "nbformat": 4,
  "nbformat_minor": 0,
  "metadata": {
    "colab": {
      "provenance": [],
      "mount_file_id": "1vxBYL-3zziYPYZwLISU8DnFJ6ezK0KQE",
      "authorship_tag": "ABX9TyPoTsZfV8gx8Z1VDkQ+rfSC",
      "include_colab_link": true
    },
    "kernelspec": {
      "name": "python3",
      "display_name": "Python 3"
    },
    "language_info": {
      "name": "python"
    }
  },
  "cells": [
    {
      "cell_type": "markdown",
      "metadata": {
        "id": "view-in-github",
        "colab_type": "text"
      },
      "source": [
        "<a href=\"https://colab.research.google.com/github/andohyung/Likelion_Project3/blob/main/MinerU.ipynb\" target=\"_parent\"><img src=\"https://colab.research.google.com/assets/colab-badge.svg\" alt=\"Open In Colab\"/></a>"
      ]
    },
    {
      "cell_type": "markdown",
      "source": [
        "##PDF Upload"
      ],
      "metadata": {
        "id": "C0w_as4nHp2D"
      }
    },
    {
      "cell_type": "code",
      "source": [
        "from google.colab import drive\n",
        "import os\n",
        "\n",
        "# Google Drive 마운트\n",
        "drive.mount('/content/drive')"
      ],
      "metadata": {
        "id": "KfexUQP_H0Lk"
      },
      "execution_count": null,
      "outputs": []
    },
    {
      "cell_type": "code",
      "execution_count": 1,
      "metadata": {
        "colab": {
          "base_uri": "https://localhost:8080/"
        },
        "id": "nIn9S9JEHo-a",
        "outputId": "658cabf7-a379-47b0-974d-f1c79afadf03"
      },
      "outputs": [
        {
          "output_type": "stream",
          "name": "stdout",
          "text": [
            "🔍 메인 폴더 탐색 시작...\n",
            "\n",
            "📁 현재 경로: /content/drive/MyDrive/종합프로젝트_유니비/가천대학교_세포생물학/가천대학교-세포생물학\n",
            "❌ 오류 발생: name 'os' is not defined\n",
            "\n",
            "✅ 탐색 완료!\n",
            "\n",
            "📊 총 0개의 PDF 파일을 찾았습니다.\n",
            "\n",
            "📋 전체 PDF 파일 리스트:\n"
          ]
        }
      ],
      "source": [
        "# 기본 경로 설정\n",
        "base_path = \"/content/drive/MyDrive/종합프로젝트_유니비/가천대학교_세포생물학/가천대학교-세포생물학\"\n",
        "\n",
        "def explore_folders(path, all_pdfs=None):\n",
        "    \"\"\"\n",
        "    폴더 내의 모든 하위 폴더와 PDF 파일들을 탐색하고 PDF 파일들의 전체 경로를 저장합니다.\n",
        "    \"\"\"\n",
        "    if all_pdfs is None:\n",
        "        all_pdfs = []\n",
        "\n",
        "    print(f\"\\n📁 현재 경로: {path}\")\n",
        "\n",
        "    try:\n",
        "        # 폴더 내 모든 항목 가져오기\n",
        "        items = os.listdir(path)\n",
        "\n",
        "        # 폴더와 PDF 파일 분류\n",
        "        folders = []\n",
        "        pdfs = []\n",
        "\n",
        "        for item in items:\n",
        "            full_path = os.path.join(path, item)\n",
        "            if os.path.isdir(full_path):\n",
        "                folders.append(item)\n",
        "            elif item.lower().endswith('.pdf'):\n",
        "                pdfs.append(item)\n",
        "                all_pdfs.append(full_path)  # 전체 경로를 저장\n",
        "\n",
        "        # 폴더 목록 출력\n",
        "        if folders:\n",
        "            print(\"\\n📁 하위 폴더들:\")\n",
        "            for idx, folder in enumerate(folders, 1):\n",
        "                print(f\"{idx}. {folder}\")\n",
        "\n",
        "        # PDF 파일 목록 출력\n",
        "        if pdfs:\n",
        "            print(\"\\n📄 PDF 파일들:\")\n",
        "            for idx, pdf in enumerate(pdfs, 1):\n",
        "                file_size = os.path.getsize(os.path.join(path, pdf)) / (1024 * 1024)  # MB로 변환\n",
        "                print(f\"{idx}. {pdf} ({file_size:.2f} MB)\")\n",
        "\n",
        "        # 하위 폴더들도 재귀적으로 탐색\n",
        "        for folder in folders:\n",
        "            folder_path = os.path.join(path, folder)\n",
        "            explore_folders(folder_path, all_pdfs)\n",
        "\n",
        "        return all_pdfs\n",
        "\n",
        "    except Exception as e:\n",
        "        print(f\"❌ 오류 발생: {str(e)}\")\n",
        "        return all_pdfs\n",
        "\n",
        "# 메인 폴더 탐색과 PDF 파일 리스트 저장\n",
        "print(\"🔍 메인 폴더 탐색 시작...\")\n",
        "pdf_list = explore_folders(base_path)\n",
        "\n",
        "print(\"\\n✅ 탐색 완료!\")\n",
        "print(f\"\\n📊 총 {len(pdf_list)}개의 PDF 파일을 찾았습니다.\")\n",
        "print(\"\\n📋 전체 PDF 파일 리스트:\")\n",
        "for idx, pdf_path in enumerate(pdf_list, 1):\n",
        "    print(f\"{idx}. {pdf_path}\")"
      ]
    },
    {
      "cell_type": "markdown",
      "source": [
        "#MinerU"
      ],
      "metadata": {
        "id": "f01rU-IfIHO_"
      }
    },
    {
      "cell_type": "code",
      "source": [
        "!pip install -U magic-pdf[full] --extra-index-url https://wheels.myhloli.com\n",
        "!pip install huggingface_hub"
      ],
      "metadata": {
        "id": "zPjtkiveIIwW"
      },
      "execution_count": null,
      "outputs": []
    },
    {
      "cell_type": "code",
      "source": [
        "! wget https://github.com/opendatalab/MinerU/raw/master/scripts/download_models_hf.py -O download_models_hf.py"
      ],
      "metadata": {
        "id": "dY7DjzNqIKZn"
      },
      "execution_count": null,
      "outputs": []
    },
    {
      "cell_type": "code",
      "source": [
        "!python download_models_hf.py"
      ],
      "metadata": {
        "id": "R26rT8kFILzv"
      },
      "execution_count": null,
      "outputs": []
    },
    {
      "cell_type": "markdown",
      "source": [
        "Use GPU"
      ],
      "metadata": {
        "id": "ZUUF2p0pIOiO"
      }
    },
    {
      "cell_type": "code",
      "source": [
        "!sed -i 's|cpu|cuda|g' ~/magic-pdf.json"
      ],
      "metadata": {
        "id": "vBXU1hOuIRJ9"
      },
      "execution_count": null,
      "outputs": []
    },
    {
      "cell_type": "code",
      "source": [
        "!pip install https://paddle-whl.bj.bcebos.com/stable/cu118/paddlepaddle-gpu/paddlepaddle_gpu-3.0.0b1-cp310-cp310-linux_x86_64.whl"
      ],
      "metadata": {
        "id": "Xzvl2WXuIRWc"
      },
      "execution_count": null,
      "outputs": []
    },
    {
      "cell_type": "markdown",
      "source": [
        "#Convert PDF"
      ],
      "metadata": {
        "id": "UwjaCSnzIUFD"
      }
    },
    {
      "cell_type": "code",
      "source": [
        "!magic-pdf -p /content/drive/MyDrive/종합프로젝트_유니비/가천대학교_세포생물학/가천대학교-세포생물학 -o /content/drive/MyDrive/종합프로젝트_유니비/가천대학교_세포생물학 -m auto -l korean"
      ],
      "metadata": {
        "id": "RURLgps1IXE7"
      },
      "execution_count": null,
      "outputs": []
    }
  ]
}